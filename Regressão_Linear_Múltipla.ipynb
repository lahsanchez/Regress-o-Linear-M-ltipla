{
  "nbformat": 4,
  "nbformat_minor": 0,
  "metadata": {
    "colab": {
      "name": "Regressão Linear Múltipla",
      "provenance": []
    },
    "kernelspec": {
      "name": "python3",
      "display_name": "Python 3"
    },
    "language_info": {
      "name": "python"
    }
  },
  "cells": [
    {
      "cell_type": "code",
      "metadata": {
        "colab": {
          "base_uri": "https://localhost:8080/"
        },
        "id": "BiIVXy9IE8cZ",
        "outputId": "dc405dc7-2f54-41e4-8fd6-b255af508bd4"
      },
      "source": [
        "!pip install gradient_descent"
      ],
      "execution_count": 2,
      "outputs": [
        {
          "output_type": "stream",
          "text": [
            "Collecting gradient_descent\n",
            "  Downloading gradient_descent-0.0.3.tar.gz (7.1 kB)\n",
            "Building wheels for collected packages: gradient-descent\n",
            "  Building wheel for gradient-descent (setup.py) ... \u001b[?25l\u001b[?25hdone\n",
            "  Created wheel for gradient-descent: filename=gradient_descent-0.0.3-py3-none-any.whl size=14329 sha256=6a81321ed48377e801dee55bd9fed2a2ccd66fe49a59bbc88d7e25f0b9ec6b8d\n",
            "  Stored in directory: /root/.cache/pip/wheels/13/54/f8/690c42129d573a49713f4a07763e4c6884f61e5f18b2264c1a\n",
            "Successfully built gradient-descent\n",
            "Installing collected packages: gradient-descent\n",
            "Successfully installed gradient-descent-0.0.3\n"
          ],
          "name": "stdout"
        }
      ]
    },
    {
      "cell_type": "code",
      "metadata": {
        "id": "f1wABTdpFJ6E"
      },
      "source": [
        "from collections import Counter\n",
        "import matplotlib.pyplot as plt\n",
        "import random\n",
        "import math\n",
        "import numpy as np\n",
        "import gradient_descent as gd"
      ],
      "execution_count": 3,
      "outputs": []
    },
    {
      "cell_type": "code",
      "metadata": {
        "id": "GLyDVMj9JdHd"
      },
      "source": [
        "num_friends = [10, 49, 41, 40, 25, 1, 1, 1, 1, 1, 2, 2, 2, 2, 3, 3, 3, 4, 4, 4, 5, 5, 6, 6, 7, 7, 7, 8, 8, 10, 11, 11, 12, 12,\n",
        "15, 15, 15, 18, 20, 20]\n",
        "daily_min = [18, 39, 37, 35, 28, 7, 9, 8, 7, 8, 10, 11, 12, 9, 13, 15, 14, 14, 17, 16, 15, 19, 16, 21, 17, 19, 22, 18, 21, 20, 24, 23, 22, 25,\n",
        "25, 27, 29, 28, 30, 32]\n",
        "work_hours = [8, 6, 6, 6, 6, 9, 10, 10, 12, 11, 10, 9, 9, 10, 9, 9, 8, 8, 8, 8, 8, 8, 8, 8, 8, 7, 7, 8, 7, 7, 7, 7, 7, 7,\n",
        "7, 6, 6, 6, 6, 6]\n",
        "has_phd = [0, 0, 1, 0, 0, 1, 1, 1, 1, 0, 1, 1, 1, 0, 1, 1, 0, 1, 1, 1, 1, 1, 1, 0, 1, 1, 1, 0, 1, 1, 1, 0, 0, 0, 1, 0, 0, 0, 1, 0]"
      ],
      "execution_count": 4,
      "outputs": []
    },
    {
      "cell_type": "code",
      "metadata": {
        "id": "zqmh7hL4Jl-G"
      },
      "source": [
        "def mean(x):\n",
        "  return sum(x) / len(x)\n",
        "  \n",
        "def de_mean(x):\n",
        "  x_bar = mean(x)\n",
        "  return [x_i - x_bar for x_i in x]\n",
        "  \n",
        "def dot(v, w):\n",
        "  return sum(v_i * w_i \n",
        "             for v_i, w_i in zip(v, w))\n",
        "  \n",
        "def sum_of_squares(x):\n",
        "  return sum([x_i * x_i for x_i in x])\n",
        "  \n",
        "def variance(x):\n",
        "  n = len(x)\n",
        "  deviations = de_mean(x)\n",
        "  return sum_of_squares(deviations) / (n-1)\n",
        "  \n",
        "def standard_deviation(x):\n",
        "  return math.sqrt(variance(x))\n",
        "  \n",
        "def covariance(x, y):\n",
        "  n = len(x)\n",
        "  return dot(de_mean(x), de_mean(y)) / (n-1)\n",
        "  \n",
        "def correlation(x, y):\n",
        "  stdev_x = standard_deviation(x)\n",
        "  stdev_y = standard_deviation(y)\n",
        "  if stdev_x > 0 and stdev_y > 0:\n",
        "    return covariance(x, y) / stdev_x / stdev_y\n",
        "  else:\n",
        "    return"
      ],
      "execution_count": 5,
      "outputs": []
    },
    {
      "cell_type": "code",
      "metadata": {
        "id": "vIpq3lmCNS-w"
      },
      "source": [
        "def predict(x_i, beta):\n",
        "  \"\"\"assumes that the first element of each x_i is 1\"\"\"\n",
        "  return dot(x_i, beta)"
      ],
      "execution_count": 15,
      "outputs": []
    },
    {
      "cell_type": "code",
      "metadata": {
        "colab": {
          "base_uri": "https://localhost:8080/"
        },
        "id": "fsH0JK51K0cV",
        "outputId": "add274c4-73ec-45e8-ca18-7008333c1f57"
      },
      "source": [
        "[1,\n",
        " 49,\n",
        " 4,\n",
        " 0]"
      ],
      "execution_count": 16,
      "outputs": [
        {
          "output_type": "execute_result",
          "data": {
            "text/plain": [
              "[1, 49, 4, 0]"
            ]
          },
          "metadata": {},
          "execution_count": 16
        }
      ]
    },
    {
      "cell_type": "code",
      "metadata": {
        "id": "GHSBZ-umLB2s"
      },
      "source": [
        "x=[[1, x1, x2, x3] for x1, x2, x3 in \n",
        "   zip(num_friends, work_hours, has_phd)]"
      ],
      "execution_count": 18,
      "outputs": []
    },
    {
      "cell_type": "code",
      "metadata": {
        "colab": {
          "base_uri": "https://localhost:8080/"
        },
        "id": "VFkg_cKtMHgU",
        "outputId": "bf171b93-2f56-4acc-e44a-e1782e030aa4"
      },
      "source": [
        "x[:3]"
      ],
      "execution_count": 19,
      "outputs": [
        {
          "output_type": "execute_result",
          "data": {
            "text/plain": [
              "[[1, 10, 8, 0], [1, 49, 6, 0], [1, 41, 6, 1]]"
            ]
          },
          "metadata": {},
          "execution_count": 19
        }
      ]
    },
    {
      "cell_type": "code",
      "metadata": {
        "id": "B5Q2DXOoMJkU"
      },
      "source": [
        "def error(x_i, y_i, beta):\n",
        "  return y_i - predict(x_i, beta)\n",
        "\n",
        "def squared_error(x_i, y_i, beta):\n",
        "  return error(x_i, y_i, beta) ** 2\n",
        "  \n",
        "def squared_error_gradient(x_i, y_i, beta):\n",
        "  \"\"\"the gradient (with respect to beta) corresponding to the ith squared error term\"\"\"\n",
        "  return[-2 * x_ij * error(x_i, y_i, beta) for x_ij in x_i]"
      ],
      "execution_count": 20,
      "outputs": []
    },
    {
      "cell_type": "code",
      "metadata": {
        "id": "xd5iV-zZNp8T"
      },
      "source": [
        "def estimate_beta(x, y):\n",
        "  beta_initial = [random.random() for x_i in x[0]]\n",
        "  return gd.minimize_stochastic(squared_error,\n",
        "                                squared_error_gradient,\n",
        "                                x,y,\n",
        "                                beta_initial,\n",
        "                                0.001)"
      ],
      "execution_count": 21,
      "outputs": []
    },
    {
      "cell_type": "code",
      "metadata": {
        "colab": {
          "base_uri": "https://localhost:8080/",
          "height": 299
        },
        "id": "so0zo_d5N4iF",
        "outputId": "c1d659aa-2982-4a13-9e56-c99c40125bc6"
      },
      "source": [
        "random.seed(0)\n",
        "beta = estimate_beta(x, daily_min)"
      ],
      "execution_count": 37,
      "outputs": [
        {
          "output_type": "error",
          "ename": "AttributeError",
          "evalue": "ignored",
          "traceback": [
            "\u001b[0;31m---------------------------------------------------------------------------\u001b[0m",
            "\u001b[0;31mAttributeError\u001b[0m                            Traceback (most recent call last)",
            "\u001b[0;32m<ipython-input-37-e2c7882b1bdf>\u001b[0m in \u001b[0;36m<module>\u001b[0;34m()\u001b[0m\n\u001b[1;32m      1\u001b[0m \u001b[0mrandom\u001b[0m\u001b[0;34m.\u001b[0m\u001b[0mseed\u001b[0m\u001b[0;34m(\u001b[0m\u001b[0;36m0\u001b[0m\u001b[0;34m)\u001b[0m\u001b[0;34m\u001b[0m\u001b[0;34m\u001b[0m\u001b[0m\n\u001b[0;32m----> 2\u001b[0;31m \u001b[0mbeta\u001b[0m \u001b[0;34m=\u001b[0m \u001b[0mestimate_beta\u001b[0m\u001b[0;34m(\u001b[0m\u001b[0mx\u001b[0m\u001b[0;34m,\u001b[0m \u001b[0mdaily_min\u001b[0m\u001b[0;34m)\u001b[0m\u001b[0;34m\u001b[0m\u001b[0;34m\u001b[0m\u001b[0m\n\u001b[0m",
            "\u001b[0;32m<ipython-input-21-feabb9fd9f1c>\u001b[0m in \u001b[0;36mestimate_beta\u001b[0;34m(x, y)\u001b[0m\n\u001b[1;32m      1\u001b[0m \u001b[0;32mdef\u001b[0m \u001b[0mestimate_beta\u001b[0m\u001b[0;34m(\u001b[0m\u001b[0mx\u001b[0m\u001b[0;34m,\u001b[0m \u001b[0my\u001b[0m\u001b[0;34m)\u001b[0m\u001b[0;34m:\u001b[0m\u001b[0;34m\u001b[0m\u001b[0;34m\u001b[0m\u001b[0m\n\u001b[1;32m      2\u001b[0m   \u001b[0mbeta_initial\u001b[0m \u001b[0;34m=\u001b[0m \u001b[0;34m[\u001b[0m\u001b[0mrandom\u001b[0m\u001b[0;34m.\u001b[0m\u001b[0mrandom\u001b[0m\u001b[0;34m(\u001b[0m\u001b[0;34m)\u001b[0m \u001b[0;32mfor\u001b[0m \u001b[0mx_i\u001b[0m \u001b[0;32min\u001b[0m \u001b[0mx\u001b[0m\u001b[0;34m[\u001b[0m\u001b[0;36m0\u001b[0m\u001b[0;34m]\u001b[0m\u001b[0;34m]\u001b[0m\u001b[0;34m\u001b[0m\u001b[0;34m\u001b[0m\u001b[0m\n\u001b[0;32m----> 3\u001b[0;31m   return gd.minimize_stochastic(squared_error,\n\u001b[0m\u001b[1;32m      4\u001b[0m                                 \u001b[0msquared_error_gradient\u001b[0m\u001b[0;34m,\u001b[0m\u001b[0;34m\u001b[0m\u001b[0;34m\u001b[0m\u001b[0m\n\u001b[1;32m      5\u001b[0m                                 \u001b[0mx\u001b[0m\u001b[0;34m,\u001b[0m\u001b[0my\u001b[0m\u001b[0;34m,\u001b[0m\u001b[0;34m\u001b[0m\u001b[0;34m\u001b[0m\u001b[0m\n",
            "\u001b[0;31mAttributeError\u001b[0m: module 'gradient_descent' has no attribute 'minimize_stochastic'"
          ]
        }
      ]
    },
    {
      "cell_type": "code",
      "metadata": {
        "colab": {
          "base_uri": "https://localhost:8080/",
          "height": 163
        },
        "id": "tLTmN2SyOVB0",
        "outputId": "cb040e42-16dd-43dd-a547-727d5ca52b6d"
      },
      "source": [
        "beta"
      ],
      "execution_count": 24,
      "outputs": [
        {
          "output_type": "error",
          "ename": "NameError",
          "evalue": "ignored",
          "traceback": [
            "\u001b[0;31m---------------------------------------------------------------------------\u001b[0m",
            "\u001b[0;31mNameError\u001b[0m                                 Traceback (most recent call last)",
            "\u001b[0;32m<ipython-input-24-6c007a14875d>\u001b[0m in \u001b[0;36m<module>\u001b[0;34m()\u001b[0m\n\u001b[0;32m----> 1\u001b[0;31m \u001b[0mbeta\u001b[0m\u001b[0;34m\u001b[0m\u001b[0;34m\u001b[0m\u001b[0m\n\u001b[0m",
            "\u001b[0;31mNameError\u001b[0m: name 'beta' is not defined"
          ]
        }
      ]
    },
    {
      "cell_type": "code",
      "metadata": {
        "id": "i_TXb3lXOapL"
      },
      "source": [
        "def total_sum_of_squares(y):\n",
        "  \"\"\"the total squared variation of y_i's from their mean\"\"\"\n",
        "  return sum(v ** 2 for v in de_mean(y))\n",
        "\n",
        "def multiple_r_squared(x, y, beta):\n",
        "  sum_of_squared_errors = sum(error(x_i, y_i, beta) ** 2\n",
        "                              for x_i, y_i in zip(x, y))\n",
        "  return 1.0-(sum_of_squared_errors / total_sum_of_squares(y))"
      ],
      "execution_count": 25,
      "outputs": []
    },
    {
      "cell_type": "code",
      "metadata": {
        "colab": {
          "base_uri": "https://localhost:8080/",
          "height": 163
        },
        "id": "z2QDXOAJO4z7",
        "outputId": "74f4702a-083c-4179-e353-5a244768ba43"
      },
      "source": [
        "print(\"R2 = \",multiple_r_squared(x,daily_min,beta))"
      ],
      "execution_count": 35,
      "outputs": [
        {
          "output_type": "error",
          "ename": "NameError",
          "evalue": "ignored",
          "traceback": [
            "\u001b[0;31m---------------------------------------------------------------------------\u001b[0m",
            "\u001b[0;31mNameError\u001b[0m                                 Traceback (most recent call last)",
            "\u001b[0;32m<ipython-input-35-288cbe241e47>\u001b[0m in \u001b[0;36m<module>\u001b[0;34m()\u001b[0m\n\u001b[0;32m----> 1\u001b[0;31m \u001b[0mprint\u001b[0m\u001b[0;34m(\u001b[0m\u001b[0;34m\"R2 = \"\u001b[0m\u001b[0;34m,\u001b[0m\u001b[0mmultiple_r_squared\u001b[0m\u001b[0;34m(\u001b[0m\u001b[0mx\u001b[0m\u001b[0;34m,\u001b[0m\u001b[0mdaily_min\u001b[0m\u001b[0;34m,\u001b[0m\u001b[0mbeta\u001b[0m\u001b[0;34m)\u001b[0m\u001b[0;34m)\u001b[0m\u001b[0;34m\u001b[0m\u001b[0;34m\u001b[0m\u001b[0m\n\u001b[0m",
            "\u001b[0;31mNameError\u001b[0m: name 'beta' is not defined"
          ]
        }
      ]
    },
    {
      "cell_type": "code",
      "metadata": {
        "colab": {
          "base_uri": "https://localhost:8080/",
          "height": 629
        },
        "id": "MCMYrwr6FwrC",
        "outputId": "bdfdbb44-9fa2-4525-e2b8-d5625054f453"
      },
      "source": [
        "house_y = np.genfromtxt('/content/drive/MyDrive/dataset/kc_house_data.csv', missing_values=0, delimiter=',', skip_header=1, usecols=[2] )\n",
        "house_y = np.log(house_y)\n",
        "\n",
        "house_x = np.genfromtxt('/content/drive/MyDrive/dataset/kc_house_data.csv', missing_values=0.0001, delimiter=',', skip_header=1, usecols=[5,12,19] )\n",
        "house_x = np.log(house_x)\n",
        "house_x.shape\n",
        "\n",
        "plt.scatter(house_x[:,1], house_y)\n",
        "plt.title(\"Espaço Util X Preço\")\n",
        "plt.ylabel(\"Preço\")\n",
        "plt.xlabel(\"Espaço Util - pés quadrado\")\n",
        "\n",
        "house_x = np.inser(house_x, 0, values=int(1), axis=1)\n",
        "\n",
        "random.seed(0)\n",
        "beta_house = estimate_beta(house_x, house_y)\n",
        "\n",
        "print(beta_house)\n",
        "print(\"R2 =\", multiple_r_squared(house_x, house_y, beta_house))"
      ],
      "execution_count": 36,
      "outputs": [
        {
          "output_type": "error",
          "ename": "AttributeError",
          "evalue": "ignored",
          "traceback": [
            "\u001b[0;31m---------------------------------------------------------------------------\u001b[0m",
            "\u001b[0;31mAttributeError\u001b[0m                            Traceback (most recent call last)",
            "\u001b[0;32m<ipython-input-36-3e2afe2ab9f9>\u001b[0m in \u001b[0;36m<module>\u001b[0;34m()\u001b[0m\n\u001b[1;32m     11\u001b[0m \u001b[0mplt\u001b[0m\u001b[0;34m.\u001b[0m\u001b[0mxlabel\u001b[0m\u001b[0;34m(\u001b[0m\u001b[0;34m\"Espaço Util - pés quadrado\"\u001b[0m\u001b[0;34m)\u001b[0m\u001b[0;34m\u001b[0m\u001b[0;34m\u001b[0m\u001b[0m\n\u001b[1;32m     12\u001b[0m \u001b[0;34m\u001b[0m\u001b[0m\n\u001b[0;32m---> 13\u001b[0;31m \u001b[0mhouse_x\u001b[0m \u001b[0;34m=\u001b[0m \u001b[0mnp\u001b[0m\u001b[0;34m.\u001b[0m\u001b[0minser\u001b[0m\u001b[0;34m(\u001b[0m\u001b[0mhouse_x\u001b[0m\u001b[0;34m,\u001b[0m \u001b[0;36m0\u001b[0m\u001b[0;34m,\u001b[0m \u001b[0mvalues\u001b[0m\u001b[0;34m=\u001b[0m\u001b[0mint\u001b[0m\u001b[0;34m(\u001b[0m\u001b[0;36m1\u001b[0m\u001b[0;34m)\u001b[0m\u001b[0;34m,\u001b[0m \u001b[0maxis\u001b[0m\u001b[0;34m=\u001b[0m\u001b[0;36m1\u001b[0m\u001b[0;34m)\u001b[0m\u001b[0;34m\u001b[0m\u001b[0;34m\u001b[0m\u001b[0m\n\u001b[0m\u001b[1;32m     14\u001b[0m \u001b[0;34m\u001b[0m\u001b[0m\n\u001b[1;32m     15\u001b[0m \u001b[0mrandom\u001b[0m\u001b[0;34m.\u001b[0m\u001b[0mseed\u001b[0m\u001b[0;34m(\u001b[0m\u001b[0;36m0\u001b[0m\u001b[0;34m)\u001b[0m\u001b[0;34m\u001b[0m\u001b[0;34m\u001b[0m\u001b[0m\n",
            "\u001b[0;32m/usr/local/lib/python3.7/dist-packages/numpy/__init__.py\u001b[0m in \u001b[0;36m__getattr__\u001b[0;34m(attr)\u001b[0m\n\u001b[1;32m    213\u001b[0m             \u001b[0;32melse\u001b[0m\u001b[0;34m:\u001b[0m\u001b[0;34m\u001b[0m\u001b[0;34m\u001b[0m\u001b[0m\n\u001b[1;32m    214\u001b[0m                 raise AttributeError(\"module {!r} has no attribute \"\n\u001b[0;32m--> 215\u001b[0;31m                                      \"{!r}\".format(__name__, attr))\n\u001b[0m\u001b[1;32m    216\u001b[0m \u001b[0;34m\u001b[0m\u001b[0m\n\u001b[1;32m    217\u001b[0m         \u001b[0;32mdef\u001b[0m \u001b[0m__dir__\u001b[0m\u001b[0;34m(\u001b[0m\u001b[0;34m)\u001b[0m\u001b[0;34m:\u001b[0m\u001b[0;34m\u001b[0m\u001b[0;34m\u001b[0m\u001b[0m\n",
            "\u001b[0;31mAttributeError\u001b[0m: module 'numpy' has no attribute 'inser'"
          ]
        },
        {
          "output_type": "display_data",
          "data": {
            "image/png": "[encoded data removed]",
            "text/plain": [
              "<Figure size 432x288 with 1 Axes>"
            ]
          },
          "metadata": {
            "needs_background": "light"
          }
        }
      ]
    },
    {
      "cell_type": "code",
      "metadata": {
        "colab": {
          "base_uri": "https://localhost:8080/"
        },
        "id": "QXHJK4iaPbbc",
        "outputId": "9e62de85-d70a-4565-e24f-535b624d4584"
      },
      "source": [
        "y = np.genfromtxt('/content/drive/MyDrive/dataset/kc_house_data.csv', missing_values=0, delimiter=',', skip_header=1, usecols=[2] )\n",
        "y = np.log(y)\n",
        "\n",
        "x = np.genfromtxt('/content/drive/MyDrive/dataset/kc_house_data.csv', missing_values=0.0001, delimiter=',', skip_header=1, usecols=[5,12,19,20] )\n",
        "x = np.log(x)\n",
        "\n",
        "from sklearn.linear_model import LinearRegression\n",
        "model = LinearRegression()\n",
        "model.fit(x, y)\n",
        "print(model.score(x, y))"
      ],
      "execution_count": 32,
      "outputs": [
        {
          "output_type": "stream",
          "text": [
            "0.4956430194547021\n"
          ],
          "name": "stdout"
        }
      ]
    }
  ]
}